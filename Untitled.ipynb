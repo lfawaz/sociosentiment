{
 "cells": [
  {
   "cell_type": "code",
   "execution_count": 47,
   "metadata": {
    "collapsed": true
   },
   "outputs": [],
   "source": [
    "from pymongo import MongoClient\n",
    "import json\n",
    "import pandas as pd\n",
    "import numpy as np"
   ]
  },
  {
   "cell_type": "code",
   "execution_count": 2,
   "metadata": {
    "collapsed": true
   },
   "outputs": [],
   "source": [
    "client = MongoClient()"
   ]
  },
  {
   "cell_type": "code",
   "execution_count": 3,
   "metadata": {
    "collapsed": true
   },
   "outputs": [],
   "source": [
    "db = client.sociosentiment"
   ]
  },
  {
   "cell_type": "code",
   "execution_count": 4,
   "metadata": {
    "collapsed": false
   },
   "outputs": [
    {
     "name": "stderr",
     "output_type": "stream",
     "text": [
      "/Users/lfawaz/miniconda2/lib/python2.7/site-packages/ipykernel/__main__.py:1: DeprecationWarning: database_names is deprecated. Use list_database_names instead.\n",
      "  if __name__ == '__main__':\n"
     ]
    },
    {
     "data": {
      "text/plain": [
       "[u'admin',\n",
       " u'association_db',\n",
       " u'followers',\n",
       " u'local',\n",
       " u'sociosentiment',\n",
       " u'test',\n",
       " u'todo-api',\n",
       " u'warbler']"
      ]
     },
     "execution_count": 4,
     "metadata": {},
     "output_type": "execute_result"
    }
   ],
   "source": [
    "client.database_names()"
   ]
  },
  {
   "cell_type": "code",
   "execution_count": 13,
   "metadata": {
    "collapsed": false,
    "scrolled": false
   },
   "outputs": [],
   "source": [
    "cursor = db.candidates.find({},{'screen_name': 1,'tweets': 1 ,'_id': 0})"
   ]
  },
  {
   "cell_type": "code",
   "execution_count": 14,
   "metadata": {
    "collapsed": true
   },
   "outputs": [],
   "source": [
    "raw_candidates = []"
   ]
  },
  {
   "cell_type": "code",
   "execution_count": 15,
   "metadata": {
    "collapsed": false
   },
   "outputs": [],
   "source": [
    "for doc in cursor:\n",
    "    raw_candidates.append(doc)"
   ]
  },
  {
   "cell_type": "code",
   "execution_count": 16,
   "metadata": {
    "collapsed": true
   },
   "outputs": [],
   "source": [
    "def get_tweet_from_tweets(tweets):\n",
    "    return map(lambda tweet: tweet[u'tweet'],tweets)"
   ]
  },
  {
   "cell_type": "code",
   "execution_count": 17,
   "metadata": {
    "collapsed": false,
    "scrolled": false
   },
   "outputs": [],
   "source": [
    "candidates = map(lambda candidate: {'screen_name': candidate[u'screen_name'],\\\n",
    "                       'tweet': get_tweet_from_tweets(candidate[u'tweets'])}, raw_candidates)"
   ]
  },
  {
   "cell_type": "code",
   "execution_count": 20,
   "metadata": {
    "collapsed": false
   },
   "outputs": [],
   "source": [
    "f = open('./senate_candidate.json','r')\n",
    "candidate_meta_data = json.load(f)"
   ]
  },
  {
   "cell_type": "code",
   "execution_count": 33,
   "metadata": {
    "collapsed": false
   },
   "outputs": [
    {
     "name": "stderr",
     "output_type": "stream",
     "text": [
      "/Users/lfawaz/miniconda2/lib/python2.7/site-packages/gensim/utils.py:1015: UserWarning: Pattern library is not installed, lemmatization won't be available.\n",
      "  warnings.warn(\"Pattern library is not installed, lemmatization won't be available.\")\n"
     ]
    }
   ],
   "source": [
    "from gensim.scripts import glove2word2vec\n",
    "from gensim.models import Word2Vec"
   ]
  },
  {
   "cell_type": "code",
   "execution_count": 34,
   "metadata": {
    "collapsed": false
   },
   "outputs": [],
   "source": [
    "glove_file = './glove.twitter.27B/glove.twitter.27B.25d.txt'\n",
    "word2vec_file = './glove.twitter.27B/word2vec.twitter.27B.25.txt'"
   ]
  },
  {
   "cell_type": "code",
   "execution_count": null,
   "metadata": {
    "collapsed": false
   },
   "outputs": [],
   "source": [
    "# glove2word2vec.glove2word2vec(glove_input_file=glove_file, word2vec_output_file=word2vec_file)"
   ]
  },
  {
   "cell_type": "code",
   "execution_count": 35,
   "metadata": {
    "collapsed": false
   },
   "outputs": [],
   "source": [
    "w2v = Word2Vec.load_word2vec_format(word2vec_file)"
   ]
  },
  {
   "cell_type": "code",
   "execution_count": null,
   "metadata": {
    "collapsed": false
   },
   "outputs": [],
   "source": [
    "# candidate_meta_data"
   ]
  },
  {
   "cell_type": "code",
   "execution_count": 21,
   "metadata": {
    "collapsed": true
   },
   "outputs": [],
   "source": [
    "def get_candidate_party(screen_name, candidate_meta_data=candidate_meta_data):\n",
    "    for candidate in candidate_meta_data:\n",
    "        if candidate[u'screen_name'].encode('utf-8') == screen_name:\n",
    "            return candidate[u'party'].encode('utf-8')"
   ]
  },
  {
   "cell_type": "code",
   "execution_count": 22,
   "metadata": {
    "collapsed": false
   },
   "outputs": [],
   "source": [
    "tweets = [[tweet.encode('utf-8'), candidate['screen_name'].encode('utf-8')] for candidate in candidates for tweet in candidate['tweet']]"
   ]
  },
  {
   "cell_type": "code",
   "execution_count": 23,
   "metadata": {
    "collapsed": false
   },
   "outputs": [],
   "source": [
    "tweets_df = pd.DataFrame(tweets, columns=['tweet','candidate'])"
   ]
  },
  {
   "cell_type": "code",
   "execution_count": 24,
   "metadata": {
    "collapsed": false
   },
   "outputs": [],
   "source": [
    "tweets_df['party'] = tweets_df['candidate'].apply(get_candidate_party)"
   ]
  },
  {
   "cell_type": "code",
   "execution_count": 25,
   "metadata": {
    "collapsed": false
   },
   "outputs": [
    {
     "data": {
      "text/html": [
       "<div>\n",
       "<table border=\"1\" class=\"dataframe\">\n",
       "  <thead>\n",
       "    <tr style=\"text-align: right;\">\n",
       "      <th></th>\n",
       "      <th>tweet</th>\n",
       "      <th>candidate</th>\n",
       "      <th>party</th>\n",
       "    </tr>\n",
       "  </thead>\n",
       "  <tbody>\n",
       "    <tr>\n",
       "      <th>0</th>\n",
       "      <td>wells fargo shown  years crash fraud appears b...</td>\n",
       "      <td>SenSanders</td>\n",
       "      <td>None</td>\n",
       "    </tr>\n",
       "    <tr>\n",
       "      <th>1</th>\n",
       "      <td>republicans washington working overtime protec...</td>\n",
       "      <td>SenSanders</td>\n",
       "      <td>None</td>\n",
       "    </tr>\n",
       "    <tr>\n",
       "      <th>2</th>\n",
       "      <td>one great outrages american politics major par...</td>\n",
       "      <td>SenSanders</td>\n",
       "      <td>None</td>\n",
       "    </tr>\n",
       "    <tr>\n",
       "      <th>3</th>\n",
       "      <td>major victory remain vigilant fight protect la...</td>\n",
       "      <td>SenSanders</td>\n",
       "      <td>None</td>\n",
       "    </tr>\n",
       "    <tr>\n",
       "      <th>4</th>\n",
       "      <td>parents dream worked hard parents theyd kids g...</td>\n",
       "      <td>SenSanders</td>\n",
       "      <td>None</td>\n",
       "    </tr>\n",
       "  </tbody>\n",
       "</table>\n",
       "</div>"
      ],
      "text/plain": [
       "                                               tweet   candidate party\n",
       "0  wells fargo shown  years crash fraud appears b...  SenSanders  None\n",
       "1  republicans washington working overtime protec...  SenSanders  None\n",
       "2  one great outrages american politics major par...  SenSanders  None\n",
       "3  major victory remain vigilant fight protect la...  SenSanders  None\n",
       "4  parents dream worked hard parents theyd kids g...  SenSanders  None"
      ]
     },
     "execution_count": 25,
     "metadata": {},
     "output_type": "execute_result"
    }
   ],
   "source": [
    "tweets_df.head()"
   ]
  },
  {
   "cell_type": "code",
   "execution_count": 27,
   "metadata": {
    "collapsed": false
   },
   "outputs": [],
   "source": [
    "senate_tweets_df = tweets_df.query('party in (\"R\",\"D\")')"
   ]
  },
  {
   "cell_type": "code",
   "execution_count": 83,
   "metadata": {
    "collapsed": false
   },
   "outputs": [],
   "source": [
    "D = np.zeros(w2v['word'].shape[0])"
   ]
  },
  {
   "cell_type": "code",
   "execution_count": 49,
   "metadata": {
    "collapsed": false
   },
   "outputs": [],
   "source": [
    "def get_embedding_for_tweet(tweet):\n",
    "    \n",
    "    tweet_list = tweet.split()\n",
    "    embedding_list = []\n",
    "    \n",
    "    for word in tweet_list:\n",
    "        \n",
    "        try:\n",
    "            embedding_list.append(w2v[word])\n",
    "        except:\n",
    "            embedding_list.append(D)\n",
    "             \n",
    "    return embedding_list"
   ]
  },
  {
   "cell_type": "code",
   "execution_count": 50,
   "metadata": {
    "collapsed": false
   },
   "outputs": [],
   "source": [
    "tweets_df['embeddings'] = tweets_df['tweet'].apply(get_embedding_for_tweet)"
   ]
  },
  {
   "cell_type": "code",
   "execution_count": 57,
   "metadata": {
    "collapsed": false
   },
   "outputs": [],
   "source": [
    "tweets_df['length'] = tweets_df['embeddings'].apply(len)"
   ]
  },
  {
   "cell_type": "code",
   "execution_count": 62,
   "metadata": {
    "collapsed": true
   },
   "outputs": [],
   "source": [
    "max_size = tweets_df.sort_values('length', ascending=False).iloc[0].length"
   ]
  },
  {
   "cell_type": "code",
   "execution_count": 127,
   "metadata": {
    "collapsed": true
   },
   "outputs": [],
   "source": [
    "def pad_embedding_to_max(max_size, length, embeddings):\n",
    "    \n",
    "    padding_size = max_size - length\n",
    "    padded_embeddings = embeddings + list(np.zeros((padding_size,len(D))))\n",
    "    \n",
    "    return padded_embeddings"
   ]
  },
  {
   "cell_type": "code",
   "execution_count": 128,
   "metadata": {
    "collapsed": false
   },
   "outputs": [],
   "source": [
    "tweets_df['padded_embedding'] = tweets_df.apply(lambda record: pad_embedding_to_max(max_size, record.length, record.embeddings), axis=1)"
   ]
  },
  {
   "cell_type": "code",
   "execution_count": 129,
   "metadata": {
    "collapsed": false
   },
   "outputs": [],
   "source": [
    "tweets_df['padded_length'] = tweets_df['padded_embedding'].apply(len)"
   ]
  },
  {
   "cell_type": "code",
   "execution_count": 130,
   "metadata": {
    "collapsed": false
   },
   "outputs": [],
   "source": [
    "tweets_df['y'] = tweets_df['party'].apply(lambda party: 1 if party == 'D' else 0 )"
   ]
  },
  {
   "cell_type": "code",
   "execution_count": 131,
   "metadata": {
    "collapsed": false
   },
   "outputs": [],
   "source": [
    "senate_tweets_df = tweets_df.query('party in (\"D\",\"R\")')"
   ]
  },
  {
   "cell_type": "code",
   "execution_count": 141,
   "metadata": {
    "collapsed": false
   },
   "outputs": [],
   "source": [
    "Z = senate_tweets_df.padded_embedding.values"
   ]
  },
  {
   "cell_type": "code",
   "execution_count": 144,
   "metadata": {
    "collapsed": false
   },
   "outputs": [
    {
     "name": "stdout",
     "output_type": "stream",
     "text": [
      "(45941, 1125)\n"
     ]
    }
   ],
   "source": [
    "X = np.array([np.array(z).flatten() for z in Z])\n",
    "\n",
    "print X.shape"
   ]
  },
  {
   "cell_type": "code",
   "execution_count": 146,
   "metadata": {
    "collapsed": false
   },
   "outputs": [
    {
     "name": "stdout",
     "output_type": "stream",
     "text": [
      "(45941,)\n"
     ]
    }
   ],
   "source": [
    "y = senate_tweets_df.y.values\n",
    "\n",
    "print y.shape"
   ]
  },
  {
   "cell_type": "code",
   "execution_count": 168,
   "metadata": {
    "collapsed": false
   },
   "outputs": [],
   "source": [
    "from sklearn.linear_model import LogisticRegression\n",
    "from sklearn.model_selection import train_test_split\n",
    "from sklearn.metrics import classification_report\n",
    "from sklearn.ensemble import RandomForestClassifier"
   ]
  },
  {
   "cell_type": "code",
   "execution_count": 185,
   "metadata": {
    "collapsed": true
   },
   "outputs": [],
   "source": [
    "model = RandomForestClassifier(max_depth=10, min_samples_split=20)"
   ]
  },
  {
   "cell_type": "code",
   "execution_count": 190,
   "metadata": {
    "collapsed": false
   },
   "outputs": [],
   "source": [
    "X_train, X_test, y_train, y_test = train_test_split(X, y, test_size=0.2, random_state =40)"
   ]
  },
  {
   "cell_type": "code",
   "execution_count": 191,
   "metadata": {
    "collapsed": false
   },
   "outputs": [
    {
     "data": {
      "text/plain": [
       "RandomForestClassifier(bootstrap=True, class_weight=None, criterion='gini',\n",
       "            max_depth=10, max_features='auto', max_leaf_nodes=None,\n",
       "            min_impurity_split=1e-07, min_samples_leaf=1,\n",
       "            min_samples_split=20, min_weight_fraction_leaf=0.0,\n",
       "            n_estimators=10, n_jobs=1, oob_score=False, random_state=None,\n",
       "            verbose=0, warm_start=False)"
      ]
     },
     "execution_count": 191,
     "metadata": {},
     "output_type": "execute_result"
    }
   ],
   "source": [
    "model.fit(X_train, y_train)"
   ]
  },
  {
   "cell_type": "code",
   "execution_count": 206,
   "metadata": {
    "collapsed": false
   },
   "outputs": [],
   "source": [
    "y_train_pred = model.predict(X_train)\n",
    "y_test_pred = model.predict(X_test)"
   ]
  },
  {
   "cell_type": "code",
   "execution_count": 207,
   "metadata": {
    "collapsed": false
   },
   "outputs": [
    {
     "name": "stdout",
     "output_type": "stream",
     "text": [
      "             precision    recall  f1-score   support\n",
      "\n",
      "          0       0.86      0.71      0.78     24265\n",
      "          1       0.58      0.78      0.67     12487\n",
      "\n",
      "avg / total       0.77      0.74      0.74     36752\n",
      "\n"
     ]
    }
   ],
   "source": [
    "print classification_report(y_train_pred, y_train)"
   ]
  },
  {
   "cell_type": "code",
   "execution_count": 208,
   "metadata": {
    "collapsed": false
   },
   "outputs": [
    {
     "name": "stdout",
     "output_type": "stream",
     "text": [
      "             precision    recall  f1-score   support\n",
      "\n",
      "          0       0.76      0.63      0.69      6101\n",
      "          1       0.45      0.61      0.52      3088\n",
      "\n",
      "avg / total       0.66      0.62      0.63      9189\n",
      "\n"
     ]
    }
   ],
   "source": [
    "print classification_report(y_test_pred, y_test)"
   ]
  },
  {
   "cell_type": "code",
   "execution_count": 209,
   "metadata": {
    "collapsed": false,
    "scrolled": false
   },
   "outputs": [],
   "source": [
    "y_pred = model.predict(X)"
   ]
  },
  {
   "cell_type": "code",
   "execution_count": 212,
   "metadata": {
    "collapsed": false
   },
   "outputs": [
    {
     "name": "stderr",
     "output_type": "stream",
     "text": [
      "/Users/lfawaz/miniconda2/lib/python2.7/site-packages/ipykernel/__main__.py:1: SettingWithCopyWarning: \n",
      "A value is trying to be set on a copy of a slice from a DataFrame.\n",
      "Try using .loc[row_indexer,col_indexer] = value instead\n",
      "\n",
      "See the caveats in the documentation: http://pandas.pydata.org/pandas-docs/stable/indexing.html#indexing-view-versus-copy\n",
      "  if __name__ == '__main__':\n"
     ]
    }
   ],
   "source": [
    "senate_tweets_df['y_pred'] = y_pred"
   ]
  },
  {
   "cell_type": "code",
   "execution_count": 214,
   "metadata": {
    "collapsed": false
   },
   "outputs": [
    {
     "data": {
      "text/html": [
       "<div>\n",
       "<table border=\"1\" class=\"dataframe\">\n",
       "  <thead>\n",
       "    <tr style=\"text-align: right;\">\n",
       "      <th></th>\n",
       "      <th></th>\n",
       "      <th>tweet</th>\n",
       "      <th>party</th>\n",
       "      <th>embeddings</th>\n",
       "      <th>length</th>\n",
       "      <th>padded_embedding</th>\n",
       "      <th>padded_length</th>\n",
       "      <th>y</th>\n",
       "    </tr>\n",
       "    <tr>\n",
       "      <th>candidate</th>\n",
       "      <th>y_pred</th>\n",
       "      <th></th>\n",
       "      <th></th>\n",
       "      <th></th>\n",
       "      <th></th>\n",
       "      <th></th>\n",
       "      <th></th>\n",
       "      <th></th>\n",
       "    </tr>\n",
       "  </thead>\n",
       "  <tbody>\n",
       "    <tr>\n",
       "      <th rowspan=\"2\" valign=\"top\">BetoORourke</th>\n",
       "      <th>0</th>\n",
       "      <td>1130</td>\n",
       "      <td>1130</td>\n",
       "      <td>1130</td>\n",
       "      <td>1130</td>\n",
       "      <td>1130</td>\n",
       "      <td>1130</td>\n",
       "      <td>1130</td>\n",
       "    </tr>\n",
       "    <tr>\n",
       "      <th>1</th>\n",
       "      <td>1103</td>\n",
       "      <td>1103</td>\n",
       "      <td>1103</td>\n",
       "      <td>1103</td>\n",
       "      <td>1103</td>\n",
       "      <td>1103</td>\n",
       "      <td>1103</td>\n",
       "    </tr>\n",
       "    <tr>\n",
       "      <th rowspan=\"2\" valign=\"top\">BobHugin</th>\n",
       "      <th>0</th>\n",
       "      <td>258</td>\n",
       "      <td>258</td>\n",
       "      <td>258</td>\n",
       "      <td>258</td>\n",
       "      <td>258</td>\n",
       "      <td>258</td>\n",
       "      <td>258</td>\n",
       "    </tr>\n",
       "    <tr>\n",
       "      <th>1</th>\n",
       "      <td>100</td>\n",
       "      <td>100</td>\n",
       "      <td>100</td>\n",
       "      <td>100</td>\n",
       "      <td>100</td>\n",
       "      <td>100</td>\n",
       "      <td>100</td>\n",
       "    </tr>\n",
       "    <tr>\n",
       "      <th rowspan=\"2\" valign=\"top\">Bob_Casey</th>\n",
       "      <th>0</th>\n",
       "      <td>467</td>\n",
       "      <td>467</td>\n",
       "      <td>467</td>\n",
       "      <td>467</td>\n",
       "      <td>467</td>\n",
       "      <td>467</td>\n",
       "      <td>467</td>\n",
       "    </tr>\n",
       "    <tr>\n",
       "      <th>1</th>\n",
       "      <td>257</td>\n",
       "      <td>257</td>\n",
       "      <td>257</td>\n",
       "      <td>257</td>\n",
       "      <td>257</td>\n",
       "      <td>257</td>\n",
       "      <td>257</td>\n",
       "    </tr>\n",
       "    <tr>\n",
       "      <th rowspan=\"2\" valign=\"top\">CoreyStewartVA</th>\n",
       "      <th>0</th>\n",
       "      <td>1968</td>\n",
       "      <td>1968</td>\n",
       "      <td>1968</td>\n",
       "      <td>1968</td>\n",
       "      <td>1968</td>\n",
       "      <td>1968</td>\n",
       "      <td>1968</td>\n",
       "    </tr>\n",
       "    <tr>\n",
       "      <th>1</th>\n",
       "      <td>254</td>\n",
       "      <td>254</td>\n",
       "      <td>254</td>\n",
       "      <td>254</td>\n",
       "      <td>254</td>\n",
       "      <td>254</td>\n",
       "      <td>254</td>\n",
       "    </tr>\n",
       "    <tr>\n",
       "      <th rowspan=\"2\" valign=\"top\">HawleyMO</th>\n",
       "      <th>0</th>\n",
       "      <td>1050</td>\n",
       "      <td>1050</td>\n",
       "      <td>1050</td>\n",
       "      <td>1050</td>\n",
       "      <td>1050</td>\n",
       "      <td>1050</td>\n",
       "      <td>1050</td>\n",
       "    </tr>\n",
       "    <tr>\n",
       "      <th>1</th>\n",
       "      <td>192</td>\n",
       "      <td>192</td>\n",
       "      <td>192</td>\n",
       "      <td>192</td>\n",
       "      <td>192</td>\n",
       "      <td>192</td>\n",
       "      <td>192</td>\n",
       "    </tr>\n",
       "    <tr>\n",
       "      <th rowspan=\"2\" valign=\"top\">HeidiHeitkamp</th>\n",
       "      <th>0</th>\n",
       "      <td>667</td>\n",
       "      <td>667</td>\n",
       "      <td>667</td>\n",
       "      <td>667</td>\n",
       "      <td>667</td>\n",
       "      <td>667</td>\n",
       "      <td>667</td>\n",
       "    </tr>\n",
       "    <tr>\n",
       "      <th>1</th>\n",
       "      <td>633</td>\n",
       "      <td>633</td>\n",
       "      <td>633</td>\n",
       "      <td>633</td>\n",
       "      <td>633</td>\n",
       "      <td>633</td>\n",
       "      <td>633</td>\n",
       "    </tr>\n",
       "    <tr>\n",
       "      <th rowspan=\"2\" valign=\"top\">JimRenacci</th>\n",
       "      <th>0</th>\n",
       "      <td>1597</td>\n",
       "      <td>1597</td>\n",
       "      <td>1597</td>\n",
       "      <td>1597</td>\n",
       "      <td>1597</td>\n",
       "      <td>1597</td>\n",
       "      <td>1597</td>\n",
       "    </tr>\n",
       "    <tr>\n",
       "      <th>1</th>\n",
       "      <td>326</td>\n",
       "      <td>326</td>\n",
       "      <td>326</td>\n",
       "      <td>326</td>\n",
       "      <td>326</td>\n",
       "      <td>326</td>\n",
       "      <td>326</td>\n",
       "    </tr>\n",
       "    <tr>\n",
       "      <th rowspan=\"2\" valign=\"top\">JoeManchinWV</th>\n",
       "      <th>0</th>\n",
       "      <td>259</td>\n",
       "      <td>259</td>\n",
       "      <td>259</td>\n",
       "      <td>259</td>\n",
       "      <td>259</td>\n",
       "      <td>259</td>\n",
       "      <td>259</td>\n",
       "    </tr>\n",
       "    <tr>\n",
       "      <th>1</th>\n",
       "      <td>268</td>\n",
       "      <td>268</td>\n",
       "      <td>268</td>\n",
       "      <td>268</td>\n",
       "      <td>268</td>\n",
       "      <td>268</td>\n",
       "      <td>268</td>\n",
       "    </tr>\n",
       "    <tr>\n",
       "      <th rowspan=\"2\" valign=\"top\">JoeforIndiana</th>\n",
       "      <th>0</th>\n",
       "      <td>517</td>\n",
       "      <td>517</td>\n",
       "      <td>517</td>\n",
       "      <td>517</td>\n",
       "      <td>517</td>\n",
       "      <td>517</td>\n",
       "      <td>517</td>\n",
       "    </tr>\n",
       "    <tr>\n",
       "      <th>1</th>\n",
       "      <td>342</td>\n",
       "      <td>342</td>\n",
       "      <td>342</td>\n",
       "      <td>342</td>\n",
       "      <td>342</td>\n",
       "      <td>342</td>\n",
       "      <td>342</td>\n",
       "    </tr>\n",
       "    <tr>\n",
       "      <th rowspan=\"2\" valign=\"top\">JohnJamesMI</th>\n",
       "      <th>0</th>\n",
       "      <td>488</td>\n",
       "      <td>488</td>\n",
       "      <td>488</td>\n",
       "      <td>488</td>\n",
       "      <td>488</td>\n",
       "      <td>488</td>\n",
       "      <td>488</td>\n",
       "    </tr>\n",
       "    <tr>\n",
       "      <th>1</th>\n",
       "      <td>607</td>\n",
       "      <td>607</td>\n",
       "      <td>607</td>\n",
       "      <td>607</td>\n",
       "      <td>607</td>\n",
       "      <td>607</td>\n",
       "      <td>607</td>\n",
       "    </tr>\n",
       "    <tr>\n",
       "      <th rowspan=\"2\" valign=\"top\">KarinHousley</th>\n",
       "      <th>0</th>\n",
       "      <td>1624</td>\n",
       "      <td>1624</td>\n",
       "      <td>1624</td>\n",
       "      <td>1624</td>\n",
       "      <td>1624</td>\n",
       "      <td>1624</td>\n",
       "      <td>1624</td>\n",
       "    </tr>\n",
       "    <tr>\n",
       "      <th>1</th>\n",
       "      <td>193</td>\n",
       "      <td>193</td>\n",
       "      <td>193</td>\n",
       "      <td>193</td>\n",
       "      <td>193</td>\n",
       "      <td>193</td>\n",
       "      <td>193</td>\n",
       "    </tr>\n",
       "    <tr>\n",
       "      <th rowspan=\"2\" valign=\"top\">KevinMNicholson</th>\n",
       "      <th>0</th>\n",
       "      <td>357</td>\n",
       "      <td>357</td>\n",
       "      <td>357</td>\n",
       "      <td>357</td>\n",
       "      <td>357</td>\n",
       "      <td>357</td>\n",
       "      <td>357</td>\n",
       "    </tr>\n",
       "    <tr>\n",
       "      <th>1</th>\n",
       "      <td>385</td>\n",
       "      <td>385</td>\n",
       "      <td>385</td>\n",
       "      <td>385</td>\n",
       "      <td>385</td>\n",
       "      <td>385</td>\n",
       "      <td>385</td>\n",
       "    </tr>\n",
       "    <tr>\n",
       "      <th rowspan=\"2\" valign=\"top\">LeahVukmir</th>\n",
       "      <th>0</th>\n",
       "      <td>1894</td>\n",
       "      <td>1894</td>\n",
       "      <td>1894</td>\n",
       "      <td>1894</td>\n",
       "      <td>1894</td>\n",
       "      <td>1894</td>\n",
       "      <td>1894</td>\n",
       "    </tr>\n",
       "    <tr>\n",
       "      <th>1</th>\n",
       "      <td>335</td>\n",
       "      <td>335</td>\n",
       "      <td>335</td>\n",
       "      <td>335</td>\n",
       "      <td>335</td>\n",
       "      <td>335</td>\n",
       "      <td>335</td>\n",
       "    </tr>\n",
       "    <tr>\n",
       "      <th rowspan=\"2\" valign=\"top\">MarthaMcSally</th>\n",
       "      <th>0</th>\n",
       "      <td>974</td>\n",
       "      <td>974</td>\n",
       "      <td>974</td>\n",
       "      <td>974</td>\n",
       "      <td>974</td>\n",
       "      <td>974</td>\n",
       "      <td>974</td>\n",
       "    </tr>\n",
       "    <tr>\n",
       "      <th>1</th>\n",
       "      <td>131</td>\n",
       "      <td>131</td>\n",
       "      <td>131</td>\n",
       "      <td>131</td>\n",
       "      <td>131</td>\n",
       "      <td>131</td>\n",
       "      <td>131</td>\n",
       "    </tr>\n",
       "    <tr>\n",
       "      <th rowspan=\"2\" valign=\"top\">MattForMontana</th>\n",
       "      <th>0</th>\n",
       "      <td>352</td>\n",
       "      <td>352</td>\n",
       "      <td>352</td>\n",
       "      <td>352</td>\n",
       "      <td>352</td>\n",
       "      <td>352</td>\n",
       "      <td>352</td>\n",
       "    </tr>\n",
       "    <tr>\n",
       "      <th>1</th>\n",
       "      <td>131</td>\n",
       "      <td>131</td>\n",
       "      <td>131</td>\n",
       "      <td>131</td>\n",
       "      <td>131</td>\n",
       "      <td>131</td>\n",
       "      <td>131</td>\n",
       "    </tr>\n",
       "    <tr>\n",
       "      <th>...</th>\n",
       "      <th>...</th>\n",
       "      <td>...</td>\n",
       "      <td>...</td>\n",
       "      <td>...</td>\n",
       "      <td>...</td>\n",
       "      <td>...</td>\n",
       "      <td>...</td>\n",
       "      <td>...</td>\n",
       "    </tr>\n",
       "    <tr>\n",
       "      <th rowspan=\"2\" valign=\"top\">SandyPensler</th>\n",
       "      <th>0</th>\n",
       "      <td>131</td>\n",
       "      <td>131</td>\n",
       "      <td>131</td>\n",
       "      <td>131</td>\n",
       "      <td>131</td>\n",
       "      <td>131</td>\n",
       "      <td>131</td>\n",
       "    </tr>\n",
       "    <tr>\n",
       "      <th>1</th>\n",
       "      <td>42</td>\n",
       "      <td>42</td>\n",
       "      <td>42</td>\n",
       "      <td>42</td>\n",
       "      <td>42</td>\n",
       "      <td>42</td>\n",
       "      <td>42</td>\n",
       "    </tr>\n",
       "    <tr>\n",
       "      <th rowspan=\"2\" valign=\"top\">ScottforFlorida</th>\n",
       "      <th>0</th>\n",
       "      <td>2657</td>\n",
       "      <td>2657</td>\n",
       "      <td>2657</td>\n",
       "      <td>2657</td>\n",
       "      <td>2657</td>\n",
       "      <td>2657</td>\n",
       "      <td>2657</td>\n",
       "    </tr>\n",
       "    <tr>\n",
       "      <th>1</th>\n",
       "      <td>186</td>\n",
       "      <td>186</td>\n",
       "      <td>186</td>\n",
       "      <td>186</td>\n",
       "      <td>186</td>\n",
       "      <td>186</td>\n",
       "      <td>186</td>\n",
       "    </tr>\n",
       "    <tr>\n",
       "      <th rowspan=\"2\" valign=\"top\">SenDeanHeller</th>\n",
       "      <th>0</th>\n",
       "      <td>2063</td>\n",
       "      <td>2063</td>\n",
       "      <td>2063</td>\n",
       "      <td>2063</td>\n",
       "      <td>2063</td>\n",
       "      <td>2063</td>\n",
       "      <td>2063</td>\n",
       "    </tr>\n",
       "    <tr>\n",
       "      <th>1</th>\n",
       "      <td>416</td>\n",
       "      <td>416</td>\n",
       "      <td>416</td>\n",
       "      <td>416</td>\n",
       "      <td>416</td>\n",
       "      <td>416</td>\n",
       "      <td>416</td>\n",
       "    </tr>\n",
       "    <tr>\n",
       "      <th rowspan=\"2\" valign=\"top\">SenatorMenendez</th>\n",
       "      <th>0</th>\n",
       "      <td>671</td>\n",
       "      <td>671</td>\n",
       "      <td>671</td>\n",
       "      <td>671</td>\n",
       "      <td>671</td>\n",
       "      <td>671</td>\n",
       "      <td>671</td>\n",
       "    </tr>\n",
       "    <tr>\n",
       "      <th>1</th>\n",
       "      <td>1738</td>\n",
       "      <td>1738</td>\n",
       "      <td>1738</td>\n",
       "      <td>1738</td>\n",
       "      <td>1738</td>\n",
       "      <td>1738</td>\n",
       "      <td>1738</td>\n",
       "    </tr>\n",
       "    <tr>\n",
       "      <th rowspan=\"2\" valign=\"top\">SherrodBrown</th>\n",
       "      <th>0</th>\n",
       "      <td>1156</td>\n",
       "      <td>1156</td>\n",
       "      <td>1156</td>\n",
       "      <td>1156</td>\n",
       "      <td>1156</td>\n",
       "      <td>1156</td>\n",
       "      <td>1156</td>\n",
       "    </tr>\n",
       "    <tr>\n",
       "      <th>1</th>\n",
       "      <td>1977</td>\n",
       "      <td>1977</td>\n",
       "      <td>1977</td>\n",
       "      <td>1977</td>\n",
       "      <td>1977</td>\n",
       "      <td>1977</td>\n",
       "      <td>1977</td>\n",
       "    </tr>\n",
       "    <tr>\n",
       "      <th rowspan=\"2\" valign=\"top\">TinaSmithMN</th>\n",
       "      <th>0</th>\n",
       "      <td>1093</td>\n",
       "      <td>1093</td>\n",
       "      <td>1093</td>\n",
       "      <td>1093</td>\n",
       "      <td>1093</td>\n",
       "      <td>1093</td>\n",
       "      <td>1093</td>\n",
       "    </tr>\n",
       "    <tr>\n",
       "      <th>1</th>\n",
       "      <td>614</td>\n",
       "      <td>614</td>\n",
       "      <td>614</td>\n",
       "      <td>614</td>\n",
       "      <td>614</td>\n",
       "      <td>614</td>\n",
       "      <td>614</td>\n",
       "    </tr>\n",
       "    <tr>\n",
       "      <th rowspan=\"2\" valign=\"top\">VoteMarsha</th>\n",
       "      <th>0</th>\n",
       "      <td>2018</td>\n",
       "      <td>2018</td>\n",
       "      <td>2018</td>\n",
       "      <td>2018</td>\n",
       "      <td>2018</td>\n",
       "      <td>2018</td>\n",
       "      <td>2018</td>\n",
       "    </tr>\n",
       "    <tr>\n",
       "      <th>1</th>\n",
       "      <td>405</td>\n",
       "      <td>405</td>\n",
       "      <td>405</td>\n",
       "      <td>405</td>\n",
       "      <td>405</td>\n",
       "      <td>405</td>\n",
       "      <td>405</td>\n",
       "    </tr>\n",
       "    <tr>\n",
       "      <th rowspan=\"2\" valign=\"top\">braun4indiana</th>\n",
       "      <th>0</th>\n",
       "      <td>129</td>\n",
       "      <td>129</td>\n",
       "      <td>129</td>\n",
       "      <td>129</td>\n",
       "      <td>129</td>\n",
       "      <td>129</td>\n",
       "      <td>129</td>\n",
       "    </tr>\n",
       "    <tr>\n",
       "      <th>1</th>\n",
       "      <td>58</td>\n",
       "      <td>58</td>\n",
       "      <td>58</td>\n",
       "      <td>58</td>\n",
       "      <td>58</td>\n",
       "      <td>58</td>\n",
       "      <td>58</td>\n",
       "    </tr>\n",
       "    <tr>\n",
       "      <th rowspan=\"2\" valign=\"top\">cindyhydesmith</th>\n",
       "      <th>0</th>\n",
       "      <td>316</td>\n",
       "      <td>316</td>\n",
       "      <td>316</td>\n",
       "      <td>316</td>\n",
       "      <td>316</td>\n",
       "      <td>316</td>\n",
       "      <td>316</td>\n",
       "    </tr>\n",
       "    <tr>\n",
       "      <th>1</th>\n",
       "      <td>85</td>\n",
       "      <td>85</td>\n",
       "      <td>85</td>\n",
       "      <td>85</td>\n",
       "      <td>85</td>\n",
       "      <td>85</td>\n",
       "      <td>85</td>\n",
       "    </tr>\n",
       "    <tr>\n",
       "      <th rowspan=\"2\" valign=\"top\">espyforsenate</th>\n",
       "      <th>0</th>\n",
       "      <td>26</td>\n",
       "      <td>26</td>\n",
       "      <td>26</td>\n",
       "      <td>26</td>\n",
       "      <td>26</td>\n",
       "      <td>26</td>\n",
       "      <td>26</td>\n",
       "    </tr>\n",
       "    <tr>\n",
       "      <th>1</th>\n",
       "      <td>26</td>\n",
       "      <td>26</td>\n",
       "      <td>26</td>\n",
       "      <td>26</td>\n",
       "      <td>26</td>\n",
       "      <td>26</td>\n",
       "      <td>26</td>\n",
       "    </tr>\n",
       "    <tr>\n",
       "      <th rowspan=\"2\" valign=\"top\">jontester</th>\n",
       "      <th>0</th>\n",
       "      <td>334</td>\n",
       "      <td>334</td>\n",
       "      <td>334</td>\n",
       "      <td>334</td>\n",
       "      <td>334</td>\n",
       "      <td>334</td>\n",
       "      <td>334</td>\n",
       "    </tr>\n",
       "    <tr>\n",
       "      <th>1</th>\n",
       "      <td>814</td>\n",
       "      <td>814</td>\n",
       "      <td>814</td>\n",
       "      <td>814</td>\n",
       "      <td>814</td>\n",
       "      <td>814</td>\n",
       "      <td>814</td>\n",
       "    </tr>\n",
       "    <tr>\n",
       "      <th rowspan=\"2\" valign=\"top\">kevincramer</th>\n",
       "      <th>0</th>\n",
       "      <td>1103</td>\n",
       "      <td>1103</td>\n",
       "      <td>1103</td>\n",
       "      <td>1103</td>\n",
       "      <td>1103</td>\n",
       "      <td>1103</td>\n",
       "      <td>1103</td>\n",
       "    </tr>\n",
       "    <tr>\n",
       "      <th>1</th>\n",
       "      <td>200</td>\n",
       "      <td>200</td>\n",
       "      <td>200</td>\n",
       "      <td>200</td>\n",
       "      <td>200</td>\n",
       "      <td>200</td>\n",
       "      <td>200</td>\n",
       "    </tr>\n",
       "    <tr>\n",
       "      <th rowspan=\"2\" valign=\"top\">louforsenate</th>\n",
       "      <th>0</th>\n",
       "      <td>877</td>\n",
       "      <td>877</td>\n",
       "      <td>877</td>\n",
       "      <td>877</td>\n",
       "      <td>877</td>\n",
       "      <td>877</td>\n",
       "      <td>877</td>\n",
       "    </tr>\n",
       "    <tr>\n",
       "      <th>1</th>\n",
       "      <td>194</td>\n",
       "      <td>194</td>\n",
       "      <td>194</td>\n",
       "      <td>194</td>\n",
       "      <td>194</td>\n",
       "      <td>194</td>\n",
       "      <td>194</td>\n",
       "    </tr>\n",
       "    <tr>\n",
       "      <th rowspan=\"2\" valign=\"top\">tedcruz</th>\n",
       "      <th>0</th>\n",
       "      <td>904</td>\n",
       "      <td>904</td>\n",
       "      <td>904</td>\n",
       "      <td>904</td>\n",
       "      <td>904</td>\n",
       "      <td>904</td>\n",
       "      <td>904</td>\n",
       "    </tr>\n",
       "    <tr>\n",
       "      <th>1</th>\n",
       "      <td>150</td>\n",
       "      <td>150</td>\n",
       "      <td>150</td>\n",
       "      <td>150</td>\n",
       "      <td>150</td>\n",
       "      <td>150</td>\n",
       "      <td>150</td>\n",
       "    </tr>\n",
       "    <tr>\n",
       "      <th rowspan=\"2\" valign=\"top\">timkaine</th>\n",
       "      <th>0</th>\n",
       "      <td>1157</td>\n",
       "      <td>1157</td>\n",
       "      <td>1157</td>\n",
       "      <td>1157</td>\n",
       "      <td>1157</td>\n",
       "      <td>1157</td>\n",
       "      <td>1157</td>\n",
       "    </tr>\n",
       "    <tr>\n",
       "      <th>1</th>\n",
       "      <td>1317</td>\n",
       "      <td>1317</td>\n",
       "      <td>1317</td>\n",
       "      <td>1317</td>\n",
       "      <td>1317</td>\n",
       "      <td>1317</td>\n",
       "      <td>1317</td>\n",
       "    </tr>\n",
       "  </tbody>\n",
       "</table>\n",
       "<p>70 rows × 7 columns</p>\n",
       "</div>"
      ],
      "text/plain": [
       "                        tweet  party  embeddings  length  padded_embedding  \\\n",
       "candidate       y_pred                                                       \n",
       "BetoORourke     0        1130   1130        1130    1130              1130   \n",
       "                1        1103   1103        1103    1103              1103   \n",
       "BobHugin        0         258    258         258     258               258   \n",
       "                1         100    100         100     100               100   \n",
       "Bob_Casey       0         467    467         467     467               467   \n",
       "                1         257    257         257     257               257   \n",
       "CoreyStewartVA  0        1968   1968        1968    1968              1968   \n",
       "                1         254    254         254     254               254   \n",
       "HawleyMO        0        1050   1050        1050    1050              1050   \n",
       "                1         192    192         192     192               192   \n",
       "HeidiHeitkamp   0         667    667         667     667               667   \n",
       "                1         633    633         633     633               633   \n",
       "JimRenacci      0        1597   1597        1597    1597              1597   \n",
       "                1         326    326         326     326               326   \n",
       "JoeManchinWV    0         259    259         259     259               259   \n",
       "                1         268    268         268     268               268   \n",
       "JoeforIndiana   0         517    517         517     517               517   \n",
       "                1         342    342         342     342               342   \n",
       "JohnJamesMI     0         488    488         488     488               488   \n",
       "                1         607    607         607     607               607   \n",
       "KarinHousley    0        1624   1624        1624    1624              1624   \n",
       "                1         193    193         193     193               193   \n",
       "KevinMNicholson 0         357    357         357     357               357   \n",
       "                1         385    385         385     385               385   \n",
       "LeahVukmir      0        1894   1894        1894    1894              1894   \n",
       "                1         335    335         335     335               335   \n",
       "MarthaMcSally   0         974    974         974     974               974   \n",
       "                1         131    131         131     131               131   \n",
       "MattForMontana  0         352    352         352     352               352   \n",
       "                1         131    131         131     131               131   \n",
       "...                       ...    ...         ...     ...               ...   \n",
       "SandyPensler    0         131    131         131     131               131   \n",
       "                1          42     42          42      42                42   \n",
       "ScottforFlorida 0        2657   2657        2657    2657              2657   \n",
       "                1         186    186         186     186               186   \n",
       "SenDeanHeller   0        2063   2063        2063    2063              2063   \n",
       "                1         416    416         416     416               416   \n",
       "SenatorMenendez 0         671    671         671     671               671   \n",
       "                1        1738   1738        1738    1738              1738   \n",
       "SherrodBrown    0        1156   1156        1156    1156              1156   \n",
       "                1        1977   1977        1977    1977              1977   \n",
       "TinaSmithMN     0        1093   1093        1093    1093              1093   \n",
       "                1         614    614         614     614               614   \n",
       "VoteMarsha      0        2018   2018        2018    2018              2018   \n",
       "                1         405    405         405     405               405   \n",
       "braun4indiana   0         129    129         129     129               129   \n",
       "                1          58     58          58      58                58   \n",
       "cindyhydesmith  0         316    316         316     316               316   \n",
       "                1          85     85          85      85                85   \n",
       "espyforsenate   0          26     26          26      26                26   \n",
       "                1          26     26          26      26                26   \n",
       "jontester       0         334    334         334     334               334   \n",
       "                1         814    814         814     814               814   \n",
       "kevincramer     0        1103   1103        1103    1103              1103   \n",
       "                1         200    200         200     200               200   \n",
       "louforsenate    0         877    877         877     877               877   \n",
       "                1         194    194         194     194               194   \n",
       "tedcruz         0         904    904         904     904               904   \n",
       "                1         150    150         150     150               150   \n",
       "timkaine        0        1157   1157        1157    1157              1157   \n",
       "                1        1317   1317        1317    1317              1317   \n",
       "\n",
       "                        padded_length     y  \n",
       "candidate       y_pred                       \n",
       "BetoORourke     0                1130  1130  \n",
       "                1                1103  1103  \n",
       "BobHugin        0                 258   258  \n",
       "                1                 100   100  \n",
       "Bob_Casey       0                 467   467  \n",
       "                1                 257   257  \n",
       "CoreyStewartVA  0                1968  1968  \n",
       "                1                 254   254  \n",
       "HawleyMO        0                1050  1050  \n",
       "                1                 192   192  \n",
       "HeidiHeitkamp   0                 667   667  \n",
       "                1                 633   633  \n",
       "JimRenacci      0                1597  1597  \n",
       "                1                 326   326  \n",
       "JoeManchinWV    0                 259   259  \n",
       "                1                 268   268  \n",
       "JoeforIndiana   0                 517   517  \n",
       "                1                 342   342  \n",
       "JohnJamesMI     0                 488   488  \n",
       "                1                 607   607  \n",
       "KarinHousley    0                1624  1624  \n",
       "                1                 193   193  \n",
       "KevinMNicholson 0                 357   357  \n",
       "                1                 385   385  \n",
       "LeahVukmir      0                1894  1894  \n",
       "                1                 335   335  \n",
       "MarthaMcSally   0                 974   974  \n",
       "                1                 131   131  \n",
       "MattForMontana  0                 352   352  \n",
       "                1                 131   131  \n",
       "...                               ...   ...  \n",
       "SandyPensler    0                 131   131  \n",
       "                1                  42    42  \n",
       "ScottforFlorida 0                2657  2657  \n",
       "                1                 186   186  \n",
       "SenDeanHeller   0                2063  2063  \n",
       "                1                 416   416  \n",
       "SenatorMenendez 0                 671   671  \n",
       "                1                1738  1738  \n",
       "SherrodBrown    0                1156  1156  \n",
       "                1                1977  1977  \n",
       "TinaSmithMN     0                1093  1093  \n",
       "                1                 614   614  \n",
       "VoteMarsha      0                2018  2018  \n",
       "                1                 405   405  \n",
       "braun4indiana   0                 129   129  \n",
       "                1                  58    58  \n",
       "cindyhydesmith  0                 316   316  \n",
       "                1                  85    85  \n",
       "espyforsenate   0                  26    26  \n",
       "                1                  26    26  \n",
       "jontester       0                 334   334  \n",
       "                1                 814   814  \n",
       "kevincramer     0                1103  1103  \n",
       "                1                 200   200  \n",
       "louforsenate    0                 877   877  \n",
       "                1                 194   194  \n",
       "tedcruz         0                 904   904  \n",
       "                1                 150   150  \n",
       "timkaine        0                1157  1157  \n",
       "                1                1317  1317  \n",
       "\n",
       "[70 rows x 7 columns]"
      ]
     },
     "execution_count": 214,
     "metadata": {},
     "output_type": "execute_result"
    }
   ],
   "source": [
    "senate_tweets_df.groupby(['candidate','y_pred']).count()"
   ]
  },
  {
   "cell_type": "code",
   "execution_count": 218,
   "metadata": {
    "collapsed": false
   },
   "outputs": [
    {
     "data": {
      "text/plain": [
       "array(['immigrants generate surplus medicare ',\n",
       "       'thanks steveortega others making el pasos resurgence possible  great story week nytimes',\n",
       "       '',\n",
       "       'look forward working keithellison need review law casts wide net great job abcthisweek',\n",
       "       'im cosponsoring nsa oversight bill  shouldnt spying americans ',\n",
       "       'new senate immigration proposal depth fiscal irresponsibility billions walls double border patrol achieve',\n",
       "       'eloquent response doma decision ive seen',\n",
       "       'want border mexico resemble one israel palestine west east berlin',\n",
       "       'proud great county judge shes big part communitys success ',\n",
       "       'border surge  border boondoggle good contractors lobbyists sbinet ',\n",
       "       'cir not worth surge',\n",
       "       'need immigration reform rational humane fiscally responsible senates plan doesnt cut',\n",
       "       'idea secret laws repugnant',\n",
       "       'agreed mccaulpressshop senate cir bill textbook example government waste',\n",
       "       'grateful efforts ronwyden markudall independence day ',\n",
       "       'border fence ungodly stupid great stimulus defense contractors',\n",
       "       'why senate immigration bill bad el paso border country',\n",
       "       'welcome ep drespight  looking forward season great things next four years',\n",
       "       'thx visiting personal twitter acct intent visit congressional acct follow repbetoorourke  gracias',\n",
       "       'will vote yes amashnsa  respect th amendment ',\n",
       "       'thanks johncornyn gao report  need invest secure flow people trade usmx border',\n",
       "       'war drugs war people', 'breaking limits spying via nytimes',\n",
       "       'respect potus  ag holder effort reform mandatory minimums imprison own country',\n",
       "       'coup coup coup not fund government ',\n",
       "       'binational wedding midpoint paso del norte bridge felicidades edgar maricruz',\n",
       "       'country not initiate hostilities country without approval congress',\n",
       "       'potus made right call american people reps congress will decision going war',\n",
       "       'join town hall today pm community foundation  noregon st el paso tx discuss syria',\n",
       "       'syria will likely vote next week'], dtype=object)"
      ]
     },
     "execution_count": 218,
     "metadata": {},
     "output_type": "execute_result"
    }
   ],
   "source": [
    "senate_tweets_df.query('candidate == \"BetoORourke\" and y_pred == 0').tweet.values[0:30]"
   ]
  },
  {
   "cell_type": "code",
   "execution_count": 219,
   "metadata": {
    "collapsed": false
   },
   "outputs": [
    {
     "data": {
      "text/plain": [
       "array([ 'wish w mg pittard fort bliss w starmoreddiv change command ceremony  historic leader bliss critical time',\n",
       "       'patriot act mining americans personal information name national security slip becomes slide',\n",
       "       'petty arrests racial profiling  tragedy caught epic policy failure',\n",
       "       'new senate cir plan  wasted taxpayer dollars migrant deaths less chance reasonable immigration reform',\n",
       "       'avg bp agent apprehended  migrants    ep sector  want spend bil add k new agents',\n",
       "       'hudspeth county sheriff arvin west drug war busts budget either legalize marijuana something',\n",
       "       'concerned federal overreach overspending overblown threats homeland help stop',\n",
       "       'join reppetegallego filemon vela susan davis house floor talk positive dynamics usmex border',\n",
       "       'place cultures countries economies together form something greater sum parts',\n",
       "       'border port cities initiative increase trade jobs economic growth',\n",
       "       'todays border caucus press conference immigration reform humane rational fiscally responsible',\n",
       "       'humane society event inncredibles alabama  fabcezz covers la woman  cedricbixler',\n",
       "       'nsa dragnet stopped administration cannot fix pr campaign thats why im original cosponsor',\n",
       "       'arrogance contempt citizens reps congress constitution nsa control ',\n",
       "       'disappointed potus   us cannot attack country wout consent congress briefing select members doesnt count',\n",
       "       'soldiers receiving last order day mg macfarland welcoming  ad  cmd team fort bliss',\n",
       "       '  townhall syria anoche consensus speakers international negotiated solution not military one',\n",
       "       'w repfilemonvela border reps town hall immigration border policy rgv',\n",
       "       'vp biden consider trip mexico healthy usmexico border means healthy us economy',\n",
       "       'congressional town hall bus success hundreds riders lots good questions feedback',\n",
       "       ' won election told government shall broken unless surrender beaten',\n",
       "       'amazing county judge vgescobar top everything else plate live tweeting episd meeting el paso high',\n",
       "       'not ghost bloodied country covered sleep black angel weep not old city street east gone choose rip',\n",
       "       'presidents irrational inhumane deportation machine runs amok dont wait cir right thing',\n",
       "       'war drugs  year old woman abused el paso port entry failed search narcotics',\n",
       "       ' unaccompanied immigrant children returned mexico via epjz border  may  year cir',\n",
       "       'el paso safest best families cormac mccarthy one last real cities left america',\n",
       "       'new proposed iran sanctions conditions threaten destroy opportunity peaceful resolution nuclear threat',\n",
       "       'ap breaking iran initial agreement reached implementing nuclear deal sent capitals approval',\n",
       "       'nsa domestic spying minimal benefits counterterrorism efforts illegal shut down'], dtype=object)"
      ]
     },
     "execution_count": 219,
     "metadata": {},
     "output_type": "execute_result"
    }
   ],
   "source": [
    "senate_tweets_df.query('candidate == \"BetoORourke\" and y_pred == 1').tweet.values[0:30]"
   ]
  },
  {
   "cell_type": "code",
   "execution_count": null,
   "metadata": {
    "collapsed": true
   },
   "outputs": [],
   "source": []
  }
 ],
 "metadata": {
  "anaconda-cloud": {},
  "kernelspec": {
   "display_name": "Python [conda root]",
   "language": "python",
   "name": "conda-root-py"
  },
  "language_info": {
   "codemirror_mode": {
    "name": "ipython",
    "version": 2
   },
   "file_extension": ".py",
   "mimetype": "text/x-python",
   "name": "python",
   "nbconvert_exporter": "python",
   "pygments_lexer": "ipython2",
   "version": "2.7.12"
  }
 },
 "nbformat": 4,
 "nbformat_minor": 2
}
